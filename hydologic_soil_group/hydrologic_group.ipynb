{
  "nbformat": 4,
  "nbformat_minor": 0,
  "metadata": {
    "colab": {
      "name": "hydrologic_group.ipynb",
      "provenance": []
    },
    "kernelspec": {
      "name": "python3",
      "display_name": "Python 3"
    },
    "language_info": {
      "name": "python"
    },
    "widgets": {
      "application/vnd.jupyter.widget-state+json": {
        "cdcbb76d3f2f412f86d2b336dce20d75": {
          "model_module": "@jupyter-widgets/controls",
          "model_name": "RadioButtonsModel",
          "state": {
            "_options_labels": [
              "Rawls and Brakensiek, 1983",
              "Rosetta 3a"
            ],
            "_view_name": "RadioButtonsView",
            "style": "IPY_MODEL_e6e7538071b048db91c412b117a0d589",
            "_dom_classes": [],
            "description": "Ksat method:",
            "_model_name": "RadioButtonsModel",
            "index": 0,
            "_view_module": "@jupyter-widgets/controls",
            "_model_module_version": "1.5.0",
            "_view_count": null,
            "disabled": false,
            "_view_module_version": "1.5.0",
            "description_tooltip": null,
            "_model_module": "@jupyter-widgets/controls",
            "layout": "IPY_MODEL_867a708291d34546ac26e6f1474b0ba7"
          }
        },
        "e6e7538071b048db91c412b117a0d589": {
          "model_module": "@jupyter-widgets/controls",
          "model_name": "DescriptionStyleModel",
          "state": {
            "_view_name": "StyleView",
            "_model_name": "DescriptionStyleModel",
            "description_width": "",
            "_view_module": "@jupyter-widgets/base",
            "_model_module_version": "1.5.0",
            "_view_count": null,
            "_view_module_version": "1.2.0",
            "_model_module": "@jupyter-widgets/controls"
          }
        },
        "867a708291d34546ac26e6f1474b0ba7": {
          "model_module": "@jupyter-widgets/base",
          "model_name": "LayoutModel",
          "state": {
            "_view_name": "LayoutView",
            "grid_template_rows": null,
            "right": null,
            "justify_content": null,
            "_view_module": "@jupyter-widgets/base",
            "overflow": null,
            "_model_module_version": "1.2.0",
            "_view_count": null,
            "flex_flow": null,
            "width": null,
            "min_width": null,
            "border": null,
            "align_items": null,
            "bottom": null,
            "_model_module": "@jupyter-widgets/base",
            "top": null,
            "grid_column": null,
            "overflow_y": null,
            "overflow_x": null,
            "grid_auto_flow": null,
            "grid_area": null,
            "grid_template_columns": null,
            "flex": null,
            "_model_name": "LayoutModel",
            "justify_items": null,
            "grid_row": null,
            "max_height": null,
            "align_content": null,
            "visibility": null,
            "align_self": null,
            "height": null,
            "min_height": null,
            "padding": null,
            "grid_auto_rows": null,
            "grid_gap": null,
            "max_width": null,
            "order": null,
            "_view_module_version": "1.2.0",
            "grid_template_areas": null,
            "object_position": null,
            "object_fit": null,
            "grid_auto_columns": null,
            "margin": null,
            "display": null,
            "left": null
          }
        }
      }
    }
  },
  "cells": [
    {
      "cell_type": "markdown",
      "metadata": {
        "id": "RfwfzeOC4C7v"
      },
      "source": [
        "#Hydrologic soil group evaluation\n",
        "\n",
        "\n",
        "Hydrologic soil group are based on estimates of run off potential. Soils are assigned to one of four groups according to the rate of water infiltration when the soil are not protected by vegetation, are thoroughly wet and receive precipitation from long-duration storms. \n",
        "Accordingly with the USDA the group are defined as follow:\n",
        "•\tGroup A. Soils having a high infiltration rate (low runoff potential) when thoroughly wet. These consist mainly of deep, well drained to excessively drained sands or gravelly sands. These soils have a high rate of water transmission. \n",
        "•\tGroup B. Soils having a moderate infiltration rate when thoroughly wet. These consist chiefly of moderately deep or deep, moderately well drained, or well drained soils that have moderately fine texture to moderately coarse texture. These soils have a moderate rate of water transmission. \n",
        "•\tGroup C. Soils having a slow infiltration rate when thoroughly wet. These consist chiefly of soils having a layer that impedes the downward movement of water or soils of moderately fine texture or fine texture. These soils have a slow rate of water transmission. \n",
        "•\tGroup D. Soils having a very slow infiltration rate (high runoff potential) when thoroughly wet. These consist chiefly of clays that have a high shrink-swell potential, soils that have a high-water table, soils that have a claypan or clay layer at or near the surface, and soils that are shallow over nearly impervious material. These soils have a very slow rate of water transmission.\n",
        "\n",
        "\n",
        "\n",
        "<table>\n",
        "<title></title>\n",
        "<thead>\n",
        "<tr>\n",
        "<th>hydologic soil grup</th>\n",
        "<th>Criteria</th>\n",
        "</tr>\n",
        "</thead>\n",
        "<tbody>\n",
        "<tr>\n",
        "<td>A</td>\n",
        "<td>Saturated hydraulic conductivity is high and internal water occurence is deep</td>\n",
        "</tr>\n",
        "\n",
        "<tr>\n",
        "<td>B</td>\n",
        "<td>Saturated hydraulic conductivity moderately high and internal water occurence is deep</td>\n",
        "</tr>\n",
        "\n",
        "<tr>\n",
        "<td>C</td>\n",
        "<td>Saturated hydraulic conductivity is moderately low and internal free water occurence is deeper than shallow</td>\n",
        "</tr>\n",
        "\n",
        "<tr>\n",
        "<td>D</td>\n",
        "<td>Saturated hydraulic conductivity is low and/or internal free water occurence is shallow</td>\n",
        "</tr>\n",
        "\n",
        "</tbody>\n",
        "</table>\n",
        "\n",
        "\n",
        "the criteria are based on the assumption that the minimu, satrurater hydraulic conductivity occurs with in the uppermost 0.5 m. if the minumum occurs between 0.5 - 1 m, then the saturated hydraulic conductivity for the purpuse of placement is increased one class.\n",
        "If the minimum occurs below 1m, then the value for the soil ios based on values aboce 1 m using the rules as previosly given.\n",
        "\n",
        "For a more detailed description, please refer to the Soil Survey Manual contained in the USDA Handbook.\n",
        "\n",
        "**Required input files:** *Group_Ksat.tif, Group_Ksat_Rosetta.tif (obtainable with Ksat_Brakeinsiel_Rosetta.ipynb), Min60_100_B.tif, Min60_100_B.tif (obtainable with minKsat_position.ipynb), Shallow_watertable_area (computed with QGIS).*"
      ]
    },
    {
      "cell_type": "markdown",
      "metadata": {
        "id": "KgMWfiquPYZO"
      },
      "source": [
        "#Library installation\n",
        "The library installed is rasterio. This library allowed to elaborate save and load the raster files."
      ]
    },
    {
      "cell_type": "code",
      "metadata": {
        "colab": {
          "base_uri": "https://localhost:8080/"
        },
        "id": "yBuyoT7RO8h8",
        "outputId": "a1f1cae3-27fd-4803-aef5-17a0914dcf67"
      },
      "source": [
        "pip install rasterio"
      ],
      "execution_count": 1,
      "outputs": [
        {
          "output_type": "stream",
          "text": [
            "Collecting rasterio\n",
            "\u001b[?25l  Downloading https://files.pythonhosted.org/packages/0e/78/c69f7457b7dad6163abde2772abd4c8c0c6498d2ab9fd3f3b0eb73b40951/rasterio-1.2.4-cp37-cp37m-manylinux1_x86_64.whl (19.3MB)\n",
            "\u001b[K     |████████████████████████████████| 19.3MB 33.8MB/s \n",
            "\u001b[?25hRequirement already satisfied: setuptools in /usr/local/lib/python3.7/dist-packages (from rasterio) (57.0.0)\n",
            "Collecting affine\n",
            "  Downloading https://files.pythonhosted.org/packages/ac/a6/1a39a1ede71210e3ddaf623982b06ecfc5c5c03741ae659073159184cd3e/affine-2.3.0-py2.py3-none-any.whl\n",
            "Requirement already satisfied: attrs in /usr/local/lib/python3.7/dist-packages (from rasterio) (21.2.0)\n",
            "Collecting cligj>=0.5\n",
            "  Downloading https://files.pythonhosted.org/packages/73/86/43fa9f15c5b9fb6e82620428827cd3c284aa933431405d1bcf5231ae3d3e/cligj-0.7.2-py3-none-any.whl\n",
            "Requirement already satisfied: click>=4.0 in /usr/local/lib/python3.7/dist-packages (from rasterio) (7.1.2)\n",
            "Requirement already satisfied: numpy in /usr/local/lib/python3.7/dist-packages (from rasterio) (1.19.5)\n",
            "Collecting snuggs>=1.4.1\n",
            "  Downloading https://files.pythonhosted.org/packages/cc/0e/d27d6e806d6c0d1a2cfdc5d1f088e42339a0a54a09c3343f7f81ec8947ea/snuggs-1.4.7-py3-none-any.whl\n",
            "Collecting click-plugins\n",
            "  Downloading https://files.pythonhosted.org/packages/e9/da/824b92d9942f4e472702488857914bdd50f73021efea15b4cad9aca8ecef/click_plugins-1.1.1-py2.py3-none-any.whl\n",
            "Requirement already satisfied: certifi in /usr/local/lib/python3.7/dist-packages (from rasterio) (2021.5.30)\n",
            "Requirement already satisfied: pyparsing>=2.1.6 in /usr/local/lib/python3.7/dist-packages (from snuggs>=1.4.1->rasterio) (2.4.7)\n",
            "Installing collected packages: affine, cligj, snuggs, click-plugins, rasterio\n",
            "Successfully installed affine-2.3.0 click-plugins-1.1.1 cligj-0.7.2 rasterio-1.2.4 snuggs-1.4.7\n"
          ],
          "name": "stdout"
        }
      ]
    },
    {
      "cell_type": "markdown",
      "metadata": {
        "id": "J1BpbsPmPbGC"
      },
      "source": [
        "#input data selection and loading\n",
        "\n",
        "In the following section the input data required to evaluate the hydrological soil group are loaded.\n",
        "The program allows to choose the input generated with Rawls and Brakensiek method or with Rosetta 3a. (once selected the method press enter to continue)\n",
        "The unput required are:\n",
        "•\tThe saturated hydraulic conductivity (Ksat)map that can be generated using the program Ksat_Brakeinsiel_Rosetta.ipynb\n",
        "•\tA map that indicates the zones where the Ksat min value is collocated between 60 and 100 cm (this map can be generated with the code (minKsat_position.ipynb).\n",
        "•\tA map that indicates the shallow water level area. This map was evaluated externally using QGIS. The information related to the water table level are provided by the European Soil Data Centre (ESDAC). The data are available in the Dataset Soil Project specifically in the section of [Groundwater Resource maps of Europe](https://esdac.jrc.ec.europa.eu/content/groundwater-resources-maps-europe-0). This data has been combined with the [European Digital elevation model](https://land.copernicus.eu/imagery-in-situ/eu-dem/eu-dem-v1.1?tab=metadata) (30 m resolution) provided by the Copernicus Land Monitoring service to estimate the water table depth.\n",
        "It was not possible to develop a code that automatically evaluate the depth of the water table because the water table level data are not open.\n",
        "\n",
        "\n"
      ]
    },
    {
      "cell_type": "code",
      "metadata": {
        "colab": {
          "base_uri": "https://localhost:8080/",
          "height": 0,
          "referenced_widgets": [
            "cdcbb76d3f2f412f86d2b336dce20d75",
            "e6e7538071b048db91c412b117a0d589",
            "867a708291d34546ac26e6f1474b0ba7"
          ]
        },
        "id": "WAXaXm6CoAEY",
        "outputId": "5cd6d180-54e3-4769-e2a0-2e9210e4cffc"
      },
      "source": [
        "import ipywidgets as widgets\n",
        "\n",
        "w = widgets.RadioButtons(\n",
        "    options=[('Rawls and Brakensiek, 1983',1),('Rosetta 3a',2)],\n",
        "    description='Ksat method:',\n",
        "    disabled=False\n",
        ")\n",
        "display(w)"
      ],
      "execution_count": 2,
      "outputs": [
        {
          "output_type": "display_data",
          "data": {
            "application/vnd.jupyter.widget-view+json": {
              "model_id": "cdcbb76d3f2f412f86d2b336dce20d75",
              "version_minor": 0,
              "version_major": 2
            },
            "text/plain": [
              "RadioButtons(description='Ksat method:', options=(('Rawls and Brakensiek, 1983', 1), ('Rosetta 3a', 2)), value…"
            ]
          },
          "metadata": {
            "tags": []
          }
        }
      ]
    },
    {
      "cell_type": "code",
      "metadata": {
        "id": "89AhVpo7scTW"
      },
      "source": [
        "input(\"slect the Ksat method above and press Enter to continue...\")"
      ],
      "execution_count": null,
      "outputs": []
    },
    {
      "cell_type": "code",
      "metadata": {
        "id": "1mjV8w1gh4pC"
      },
      "source": [
        "import numpy as np\n",
        "import rasterio\n",
        "if int(w.value)==1:\n",
        "  Gksat = rasterio.open(\"Group_ksat.tif\", driver=\"GTiff\")\n",
        "  min60_100 = rasterio.open(\"Min60_100_B.tif\", driver=\"GTiff\")\n",
        "  print('Ksat Groups evaluated with rawls and Brakensiek Loaded')\n",
        "else:\n",
        "  Gksat = rasterio.open(\"Group_ksat_Rosetta.tif\", driver=\"GTiff\")\n",
        "  min60_100 = rasterio.open(\"Min60_100_R.tif\", driver=\"GTiff\")\n",
        "  print('Ksat Groups evaluated with Rosetta Loaded')"
      ],
      "execution_count": null,
      "outputs": []
    },
    {
      "cell_type": "code",
      "metadata": {
        "id": "Tf6LoQI2tBNS"
      },
      "source": [
        "Shalow_watertable_area = rasterio.open(\"Shalow_watertable_area.tif\", driver=\"GTiff\")"
      ],
      "execution_count": null,
      "outputs": []
    },
    {
      "cell_type": "markdown",
      "metadata": {
        "id": "pAF1VC4aQ34s"
      },
      "source": [
        "#computation\n",
        "\n",
        "Following the instruction written in the notebook introduction the hydrologic soil group is evaluated."
      ]
    },
    {
      "cell_type": "code",
      "metadata": {
        "id": "9bnF0v0GQ3qb"
      },
      "source": [
        "# combining the Ksat info with the Shallow water areas.\n",
        "\n",
        "GK = Gksat.read(1)\n",
        "SW = Shalow_watertable_area.read(1)\n",
        "M60100 = min60_100.read(1)\n",
        "GI = ((GK==4)+(GK==-1)+(GK==1))*GK +(GK==2)*(SW==1)*1 +(GK==3)*(SW==1)*2 + (GK==2)*(SW==0)*2 +(GK==3)*(SW==0)*3\n",
        "GI = (GI<4)*M60100+GI"
      ],
      "execution_count": null,
      "outputs": []
    },
    {
      "cell_type": "code",
      "metadata": {
        "id": "ZV_Di8tfZXjB"
      },
      "source": [
        "import matplotlib.pyplot as plt\n",
        "\n",
        "plt.imshow(GI, cmap='Set1')\n",
        "plt.colorbar()\n",
        "plt.title('Hydrologic Group')\n",
        "plt.show()"
      ],
      "execution_count": null,
      "outputs": []
    },
    {
      "cell_type": "code",
      "metadata": {
        "id": "qgsaPr4AaFVE"
      },
      "source": [
        "# save Ksat group\n",
        "Hydrologic_Group = Shalow_watertable_area.meta\n",
        "Hydrologic_Group.update(\n",
        "    dtype=rasterio.float32,\n",
        "    count = 1)\n",
        "\n",
        "# Create the file\n",
        "with rasterio.open('Hydrologic_Group.tif', 'w', **Hydrologic_Group) as dst:\n",
        "        dst.write_band(1, GI.astype(rasterio.float32))"
      ],
      "execution_count": null,
      "outputs": []
    }
  ]
}