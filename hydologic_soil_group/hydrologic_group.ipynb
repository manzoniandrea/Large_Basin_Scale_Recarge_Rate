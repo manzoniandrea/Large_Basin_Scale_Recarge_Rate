{
  "nbformat": 4,
  "nbformat_minor": 0,
  "metadata": {
    "colab": {
      "name": "hydrologic_group.ipynb",
      "provenance": [],
      "collapsed_sections": [
        "KgMWfiquPYZO",
        "J1BpbsPmPbGC",
        "pAF1VC4aQ34s"
      ]
    },
    "kernelspec": {
      "name": "python3",
      "display_name": "Python 3"
    },
    "language_info": {
      "name": "python"
    }
  },
  "cells": [
    {
      "cell_type": "markdown",
      "metadata": {
        "id": "RfwfzeOC4C7v"
      },
      "source": [
        "#Hydrologic soil group evaluation\n",
        "\n",
        "\n",
        "Hydrologic soil group are based on estimates of run off potential. Soils are assigned to one of four groups according to the rate of water infiltration when the soil are not protected by vegetation, are thoroughly wet and receive precipitation from long-duration storms. \n",
        "Accordingly with the USDA the group are defined as follow:\n",
        "-\tGroup A. Soils having a high infiltration rate (low runoff potential) when thoroughly wet. These consist mainly of deep, well drained to excessively drained sands or gravelly sands. These soils have a high rate of water transmission. \n",
        "-\tGroup B. Soils having a moderate infiltration rate when thoroughly wet. These consist chiefly of moderately deep or deep, moderately well drained, or well drained soils that have moderately fine texture to moderately coarse texture. These soils have a moderate rate of water transmission. \n",
        "-\tGroup C. Soils having a slow infiltration rate when thoroughly wet. These consist chiefly of soils having a layer that impedes the downward movement of water or soils of moderately fine texture or fine texture. These soils have a slow rate of water transmission. \n",
        "-\tGroup D. Soils having a very slow infiltration rate (high runoff potential) when thoroughly wet. These consist chiefly of clays that have a high shrink-swell potential, soils that have a high-water table, soils that have a claypan or clay layer at or near the surface, and soils that are shallow over nearly impervious material. These soils have a very slow rate of water transmission.\n",
        "\n",
        "\n",
        "\n",
        "<table>\n",
        "<title></title>\n",
        "<thead>\n",
        "<tr>\n",
        "<th>hydologic soil grup</th>\n",
        "<th>Criteria</th>\n",
        "</tr>\n",
        "</thead>\n",
        "<tbody>\n",
        "<tr>\n",
        "<td>A</td>\n",
        "<td>Saturated hydraulic conductivity is high and internal water occurence is deep</td>\n",
        "</tr>\n",
        "\n",
        "<tr>\n",
        "<td>B</td>\n",
        "<td>Saturated hydraulic conductivity moderately high and internal water occurence is deep</td>\n",
        "</tr>\n",
        "\n",
        "<tr>\n",
        "<td>C</td>\n",
        "<td>Saturated hydraulic conductivity is moderately low and internal free water occurence is deeper than shallow</td>\n",
        "</tr>\n",
        "\n",
        "<tr>\n",
        "<td>D</td>\n",
        "<td>Saturated hydraulic conductivity is low and/or internal free water occurence is shallow</td>\n",
        "</tr>\n",
        "\n",
        "</tbody>\n",
        "</table>\n",
        "\n",
        "\n",
        "the criteria are based on the assumption that the minimum, satrurater hydraulic conductivity ocurs with in the uppermost 0.5 m. if the minumum occurs between 0.5 - 1 m, then the saturated hydraulic conductivity for the purpuse of placement is increased one class.\n",
        "If the minimum occurs below 1m, then the value for the soil ios based on values aboce 1 m using the rules as previosly given.\n",
        "\n",
        "For a more detailed description, please refer to the Soil Survey Manual contained in the USDA Handbook. (Soil Science Division Staff. 2017. Soil survey manual. C. Ditzler, K. Scheffe, and H.C. Monger (eds.). USDA Handbook 18. Government Printing Office, Washington, D.C.)\n",
        "\n",
        "**Required input files:** *Group_Ksat.tif, Group_Ksat_Rosetta.tif (obtainable with Ksat_Brakeinsiel_Rosetta.ipynb), Min60_100_B.tif, Min60_100_B.tif (obtainable with minKsat_position.ipynb), Shallow_watertable_area (computed with QGIS).*"
      ]
    },
    {
      "cell_type": "markdown",
      "metadata": {
        "id": "KgMWfiquPYZO"
      },
      "source": [
        "#Library installation\n",
        "The library installed is rasterio. This library allowed to elaborate save and load the raster files."
      ]
    },
    {
      "cell_type": "code",
      "metadata": {
        "id": "yBuyoT7RO8h8"
      },
      "source": [
        "pip install rasterio"
      ],
      "execution_count": null,
      "outputs": []
    },
    {
      "cell_type": "markdown",
      "metadata": {
        "id": "J1BpbsPmPbGC"
      },
      "source": [
        "#input data selection and loading\n",
        "\n",
        "In the following section the input data required to evaluate the hydrological soil group are loaded.\n",
        "The program allows to choose the input generated with Rawls and Brakensiek method or with Rosetta 3a (once selected the method press enter to continue).\n",
        "The unput required are:\n",
        "•\tThe saturated hydraulic conductivity (Ksat)map that can be generated using the program Ksat_Brakeinsiel_Rosetta.ipynb\n",
        "•\tA map that indicates the zones where the Ksat min value is collocated between 60 and 100 cm (this map can be generated with the code (minKsat_position.ipynb).\n",
        "•\tA map that indicates the shallow water level area. This map was evaluated externally using QGIS. The information related to the water table level are provided by the European Soil Data Centre (ESDAC). The data are available in the Dataset Soil Project specifically in the section of [Groundwater Resource maps of Europe](https://esdac.jrc.ec.europa.eu/content/groundwater-resources-maps-europe-0). This data has been combined with the [European Digital elevation model](https://land.copernicus.eu/imagery-in-situ/eu-dem/eu-dem-v1.1?tab=metadata) (30 m resolution) provided by the Copernicus Land Monitoring service to estimate the water table depth.\n",
        "It was not possible to develop a code that automatically evaluate the depth of the water table because the water table level data are not open.\n",
        "\n",
        "\n"
      ]
    },
    {
      "cell_type": "code",
      "metadata": {
        "id": "WAXaXm6CoAEY"
      },
      "source": [
        "#select the Ksat method used to evaluate the KsatGroup\n",
        "w = input(\"slect the method used to evaluate GroupKsat, digit 1 for Rawls and Brakensiek, 1983 or 2 for Rosetta 3a:  \")\n",
        "if int(w) != 1 and int(w) != 2:\n",
        "  raise Exception('input not valid! please run again the section and provide a valid input to continue')"
      ],
      "execution_count": null,
      "outputs": []
    },
    {
      "cell_type": "code",
      "metadata": {
        "id": "1mjV8w1gh4pC"
      },
      "source": [
        "#load the input coherently with the input selected above\n",
        "import numpy as np\n",
        "import rasterio\n",
        "from scipy.signal import medfilt2d\n",
        "import pandas as pd\n",
        "import scipy\n",
        "if int(w)==1:\n",
        "  Gksat = rasterio.open(\"Group_ksat.tif\", driver=\"GTiff\")\n",
        "  min60_100 = rasterio.open(\"Min60_100_B.tif\", driver=\"GTiff\")\n",
        "  print('Ksat Groups evaluated with rawls and Brakensiek Loaded')\n",
        "else:\n",
        "  Gksat = rasterio.open(\"Group_ksat_Rosetta.tif\", driver=\"GTiff\")\n",
        "  min60_100 = rasterio.open(\"Min60_100_R.tif\", driver=\"GTiff\")\n",
        "  print('Ksat Groups evaluated with Rosetta Loaded')"
      ],
      "execution_count": null,
      "outputs": []
    },
    {
      "cell_type": "code",
      "metadata": {
        "id": "Tf6LoQI2tBNS"
      },
      "source": [
        "#load the Shalow watertable area evaluate in QGIS\n",
        "Shalow_watertable_area = rasterio.open(\"Shalow_watertable_area.tif\", driver=\"GTiff\")"
      ],
      "execution_count": 5,
      "outputs": []
    },
    {
      "cell_type": "markdown",
      "metadata": {
        "id": "pAF1VC4aQ34s"
      },
      "source": [
        "#computation and saving\n",
        "\n",
        "Following the instruction written in the notebook introduction the hydrologic soil group is evaluated and saved.\n",
        "After the assignement of the group it is applied a median filter to assign to the missing data cells the value of the median among the nearest 9x9 Kluster's cells.\n",
        "Finally in it is assigned to the open water cells ( the remaining no data values) the value of the nearest above pixel with a valid group. In this cell the infiltration will not be evaluated so, the hydrologic soil group assigned is not relevant."
      ]
    },
    {
      "cell_type": "code",
      "metadata": {
        "id": "9bnF0v0GQ3qb"
      },
      "source": [
        "# combining the Ksat info with the Shallow water areas.\n",
        "GK = Gksat.read(1)\n",
        "SW = Shalow_watertable_area.read(1)\n",
        "M60100 = min60_100.read(1)\n",
        "GI = ((GK==4)+(GK==-1)+(GK==1))*GK +(GK==2)*(SW==1)*1 +(GK==3)*(SW==1)*2 + (GK==2)*(SW==0)*2 +(GK==3)*(SW==0)*3\n",
        "GI = (GI<4)*M60100+GI\n",
        "GI = (GI>0)*GI+(GI<=0)*(scipy.signal.medfilt2d(GI, kernel_size=[9,9]))\n",
        "#filling f missing data\n",
        "mask = (GI<=0)\n",
        "tmp = GI[0].copy()\n",
        "GI[0][mask[0]] = 1\n",
        "mask[0] = False\n",
        "idx = np.where(~mask,np.arange(mask.shape[0])[:,None],0)\n",
        "out = np.take_along_axis(GI,np.maximum.accumulate(idx,axis=0),axis=0)\n",
        "GI[0] = tmp\n",
        "GI = out.astype(int)\n",
        "#convert to make the input compatible with SWB\n",
        "GI = (GI==4)*1+(GI==3)*2+(GI==2)*3+(GI==1)*4"
      ],
      "execution_count": 6,
      "outputs": []
    },
    {
      "cell_type": "code",
      "metadata": {
        "id": "ZV_Di8tfZXjB"
      },
      "source": [
        "#plot the results\n",
        "import matplotlib.pyplot as plt\n",
        "\n",
        "plt.imshow(GI, cmap='Set1')\n",
        "plt.colorbar()\n",
        "plt.title('Hydrologic Group')\n",
        "plt.show()"
      ],
      "execution_count": null,
      "outputs": []
    },
    {
      "cell_type": "code",
      "metadata": {
        "id": "qgsaPr4AaFVE"
      },
      "source": [
        "# save Ksat group\n",
        "Hydrologic_Group = Shalow_watertable_area.meta\n",
        "Hydrologic_Group.update(\n",
        "    dtype=rasterio.float32,\n",
        "    count = 1)\n",
        "\n",
        "# Create the file\n",
        "with rasterio.open('Hydrologic_Group.tif', 'w', **Hydrologic_Group) as dst:\n",
        "        dst.write_band(1, GI.astype(rasterio.float32))"
      ],
      "execution_count": 8,
      "outputs": []
    }
  ]
}
