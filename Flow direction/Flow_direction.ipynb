{
  "cells": [
    {
      "cell_type": "markdown",
      "metadata": {
        "id": "Cc5zXsWLBEwp"
      },
      "source": [
        "# Flow direction\n",
        "In this file is implemented the **D8 algorithm**. The code assigns a unique flow direction to each grid cell by finding the steepest slope between the central cell and its eight neighbouring cells.It is assigned a value for all the grid cells related to the assigned direction accordingly to the following table:\n",
        "\n",
        "![D8_algorithm_table.png](data:image/png;base64,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)\n",
        "\n",
        "*table from Westenbroek et al., 2010*\n",
        "\n",
        "The program requires in input a Digital Elevation Model DEM grid for the the area of interest. For an assesment in the pan-European area, it is possible to download the data from the [Copernicus Land Monitoring Service database](https://land.copernicus.eu/imagery-in-situ/eu-dem/eu-dem-v1.1). The data loading require a Copernicus account log in. The downloaded  DEM raster file is pre-processed in [QGIS](https://qgis.org/en/site/forusers/download.html) where it is clipped and upscaled to pixel resolution of 250 x 250 m (the same used by Soilgrid for the soil data).\n"
      ]
    },
    {
      "cell_type": "markdown",
      "metadata": {
        "id": "KC_pT6xrK22-"
      },
      "source": [
        "# Libraries installation\n",
        "\n",
        "The first library installed is  rasterio. This library allows to elaborate save and load the raster files. it will be used to elaborate the maps loaded form SoilGrid. The second library installed is Numba that allows to accelerate Python. Numba translates Python functions to optimized machine code at runtime using the industry-standard LLVM compiler library."
      ]
    },
    {
      "cell_type": "code",
      "execution_count": null,
      "metadata": {
        "id": "CvGflfZoYfMw"
      },
      "outputs": [],
      "source": [
        "pip install rasterio"
      ]
    },
    {
      "cell_type": "code",
      "execution_count": null,
      "metadata": {
        "id": "mhYESCJ0Yg2t"
      },
      "outputs": [],
      "source": [
        "pip install numba"
      ]
    },
    {
      "cell_type": "markdown",
      "metadata": {
        "id": "2_6dBr4iL1xK"
      },
      "source": [
        "#Data loading\n",
        "\n",
        "In the following section is loaded the DEM data.\n",
        "\n",
        "To run this section it is necessary to put in the code directory a file named DEM_clip.tif that contains a raster file of the DEM of the area of interest. It is recommended to realize a raster file that cover the same area and has the same resolution used for the other SWB input.\n"
      ]
    },
    {
      "cell_type": "code",
      "execution_count": 3,
      "metadata": {
        "id": "enlp_ISLYjNQ"
      },
      "outputs": [],
      "source": [
        "#import the library rasterio and open the DEM file\n",
        "import rasterio\n",
        "\n",
        "DEM = rasterio.open(\"DEM_clip.tif\", driver=\"GTiff\")"
      ]
    },
    {
      "cell_type": "code",
      "execution_count": null,
      "metadata": {
        "id": "uwaFMOl3ZCq2"
      },
      "outputs": [],
      "source": [
        "# load the plot function of rasterio\n",
        "from rasterio import plot as rplt\n",
        "%matplotlib inline\n",
        "# plot the georeferenced data\n",
        "rplt.show(DEM, title='DEM', cmap='pink')"
      ]
    },
    {
      "cell_type": "markdown",
      "metadata": {
        "id": "E_hKCX2oM2MM"
      },
      "source": [
        "#Flow direction evaluation\n",
        "\n",
        "In the following section is defined a function that evaluate which of the 8 neighbour cells has the minimum elevation value. The flow will be directed toward the individuated cell. If none of the 8 neighbour cells has lower elevation level than the centre cell, value of 0.5 is assigned.\n",
        "\n",
        "Afterall the obtained results are plotted "
      ]
    },
    {
      "cell_type": "code",
      "execution_count": null,
      "metadata": {
        "id": "1iopIl5FZQu5"
      },
      "outputs": [],
      "source": [
        "#convert the raster data into a numpy array.\n",
        "pixel_elv = DEM.read(1)\n",
        "#import the needed library\n",
        "from numba import jit\n",
        "import numpy as np\n",
        "\n",
        "#create some function input\n",
        "y = pixel_elv.shape[0]\n",
        "x = pixel_elv.shape[1]\n",
        "flow_d = np.zeros([pixel_elv.shape[0],pixel_elv.shape[1]])\n",
        "\n",
        "#define the functio to compute the direction\n",
        "@jit \n",
        "def D8_model(pixel_elv,x,y,flow_direction): # Function is compiled to machine code when called the first time\n",
        "  for i in range(y):\n",
        "      for j in  range(x):\n",
        "        if i==0 and j==0:\n",
        "          p = np.argmin([pixel_elv[i,j],pixel_elv[i,j+1],10000,10000,10000,10000,10000,pixel_elv[i+1,j],pixel_elv[i+1,j+1]])  \n",
        "        elif i==0 and j==(x-1):\n",
        "          p = np.argmin([pixel_elv[i,j],10000,10000,10000,10000,pixel_elv[i,j-1],pixel_elv[i+1,j-1],pixel_elv[i+1,j],10000])\n",
        "        elif i==(y-1) and j==(x-1):\n",
        "          p = np.argmin([pixel_elv[i,j],10000,10000,pixel_elv[i-1,j],pixel_elv[i-1,j-1],pixel_elv[i,j-1],10000,10000,10000])\n",
        "        elif i==(y-1) and j==0:\n",
        "          p = np.argmin([pixel_elv[i,j],pixel_elv[i,j+1],pixel_elv[i-1,j+1],pixel_elv[i-1,j],10000,10000,10000,10000,10000])\n",
        "        elif i==0:\n",
        "          p = np.argmin([pixel_elv[i,j],pixel_elv[i,j+1],10000,10000,10000,pixel_elv[i,j-1],pixel_elv[i+1,j-1],pixel_elv[i+1,j],pixel_elv[i+1,j+1]])\n",
        "        elif  j==0:\n",
        "          p = np.argmin([pixel_elv[i,j],pixel_elv[i,j+1],pixel_elv[i-1,j+1],pixel_elv[i-1,j],10000,10000,10000,pixel_elv[i+1,j],pixel_elv[i+1,j+1]])\n",
        "        elif i==(y-1):\n",
        "          p = np.argmin([pixel_elv[i,j],pixel_elv[i,j+1],pixel_elv[i-1,j+1],pixel_elv[i-1,j],pixel_elv[i-1,j-1],pixel_elv[i,j-1],10000,10000,10000])\n",
        "        elif j==(x-1):\n",
        "          p = np.argmin([pixel_elv[i,j],10000,10000,pixel_elv[i-1,j],pixel_elv[i-1,j-1],pixel_elv[i,j-1],pixel_elv[i+1,j-1],pixel_elv[i+1,j],10000])\n",
        "        else:\n",
<<<<<<< HEAD
        "          p = np.argmin([pixel_elv[i,j],pixel_elv[i,j+1],pixel_elv[i+1,j+1],pixel_elv[i+1,j],pixel_elv[i+1,j-1],pixel_elv[i,j-1],pixel_elv[i-1,j-1],pixel_elv[i-1,j],pixel_elv[i-1,j+1]])\n",
=======
        "          p = np.argmin([pixel_elv[i,j+1],pixel_elv[i+1,j+1],pixel_elv[i+1,j],pixel_elv[i+1,j-1],pixel_elv[i,j-1],pixel_elv[i-1,j-1],pixel_elv[i-1,j],pixel_elv[i-1,j+1],pixel_elv[i,j]])\n",
>>>>>>> b8a799460231b7a2a889286d886d3b5a9dd78b64
        "        flow_direction[i,j] = int(2**p)\n",
        "  return flow_direction\n",
        "\n",
        "#call the defined function\n",
        "flow_d = D8_model(pixel_elv,x,y,flow_d)\n"
      ]
    },
    {
      "cell_type": "code",
      "execution_count": null,
      "metadata": {
        "id": "-o8SAGNjjeAx"
      },
      "outputs": [],
      "source": [
        "# save flow_direction\n",
        "flow_direction = DEM.meta\n",
        "flow_direction.update(\n",
        "    dtype=rasterio.float32,\n",
        "    count = 1)\n",
        "\n",
        "# Create the file\n",
        "with rasterio.open('flow_direction.tif', 'w', **flow_direction) as dst:\n",
        "        dst.write_band(1, flow_d.astype(rasterio.float32))\n",
        "\n",
        "#load and plot the saved data\n",
        "FD = rasterio.open(\"flow_direction.tif\", driver=\"GTiff\")\n",
        "rplt.show(FD, title='flow_direction', cmap='pink')"
      ]
    }
  ],
  "metadata": {
    "colab": {
      "collapsed_sections": [
        "KC_pT6xrK22-",
        "2_6dBr4iL1xK",
        "E_hKCX2oM2MM"
      ],
      "name": "Flow_direction.ipynb",
      "provenance": []
    },
    "kernelspec": {
      "display_name": "Python 3",
      "name": "python3"
    },
    "language_info": {
      "name": "python"
    }
  },
  "nbformat": 4,
  "nbformat_minor": 0
}
