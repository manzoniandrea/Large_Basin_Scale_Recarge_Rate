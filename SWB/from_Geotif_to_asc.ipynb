{
 "cells": [
  {
   "cell_type": "code",
   "execution_count": 1,
   "metadata": {},
   "outputs": [],
   "source": [
    "from osgeo import gdal\n",
    "import zipfile\n",
    "import os"
   ]
  },
  {
   "cell_type": "code",
   "execution_count": 3,
   "metadata": {},
   "outputs": [],
   "source": [
    "zip_name = 'Hydrologic_Group_R.zip' \n",
    "zipObj = zipfile.ZipFile(zip_name, 'w',zipfile.ZIP_DEFLATED )\n",
    "targetFile = r\"C:\\Users\\manzo\\OneDrive - Politecnico di Milano\\dottorato\\progetto di tesi\\mappe\\infiltration\\gruppo_idrologico\\Hydrologic_Group_R.tif\"\n",
    "targetFile_ascii =  'Hydrologic_Group_R.asc' \n",
    "#Open existing dataset+\n",
    "src_ds = gdal.Open( targetFile )\t\n",
    "#Open output format driver, see gdal_translate --formats for list\t\n",
    "format = \"AAIGrid\"\t\n",
    "driver = gdal.GetDriverByName( format )\t\n",
    "#Output to new format\t\n",
    "dst_ds = driver.CreateCopy( targetFile_ascii, src_ds, 0 )\t\n",
    "#Properly close the datasets to flush to disk\t\n",
    "dst_ds = None\t\n",
    "src_ds = None\t\n",
    "zipObj.write(targetFile_ascii)\t\n",
    "zipObj.close()\n",
    "os.remove(targetFile_ascii)\n",
    "os.remove(targetFile_ascii+'.aux.xml')"
   ]
  },
  {
   "cell_type": "code",
   "execution_count": 9,
   "metadata": {},
   "outputs": [],
   "source": [
    "src_ds = gdal.Open( targetFile )"
   ]
  },
  {
   "cell_type": "code",
   "execution_count": 10,
   "metadata": {},
   "outputs": [
    {
     "name": "stdout",
     "output_type": "stream",
     "text": [
      "None\n"
     ]
    }
   ],
   "source": [
    "print(src_ds)"
   ]
  },
  {
   "cell_type": "code",
   "execution_count": null,
   "metadata": {},
   "outputs": [],
   "source": []
  }
 ],
 "metadata": {
  "kernelspec": {
   "display_name": "Python 3",
   "language": "python",
   "name": "python3"
  },
  "language_info": {
   "codemirror_mode": {
    "name": "ipython",
    "version": 3
   },
   "file_extension": ".py",
   "mimetype": "text/x-python",
   "name": "python",
   "nbconvert_exporter": "python",
   "pygments_lexer": "ipython3",
   "version": "3.8.5"
  }
 },
 "nbformat": 4,
 "nbformat_minor": 4
}
