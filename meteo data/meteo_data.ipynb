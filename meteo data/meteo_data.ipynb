{
 "cells": [
  {
   "cell_type": "markdown",
   "metadata": {
    "id": "6gwIkJCqTUYm"
   },
   "source": [
    "#CLIMATE DATA\n",
    "This code downloads climate information in a certain area. Downloaded data includes daily maximum and minimum temperature and cumulative daily precipitation. The data are processed and made available in the [Google Earth Engine Data Catalog](https://developers.google.com/earth-engine/datasets/catalog/ECMWF_ERA5_DAILY#description) by the Copernicus Climate Change Service.\n",
    "The downloaded data come from the ERA 5 project, which is the 5th generation of ECMWF atmospheric reanalysis of global climate. Reanalysis combines model data with observations from across the world into a globally complete and consistent dataset.\n",
    "Maximum and minimum temperatures are evaluated 2 meters above the ground and were calculated from ERA 5 temperature data.\n",
    "The output of the code are georeferenced maps for the Po river basin area. The output reference system is ESRI:50012. The output pixel size is 250x250 m which is consistent with the SWB input maps. The resolution of the climate data provided does not match the input grid, so the value assigned to each pixel is sampled from the downloaded map which has a resolution of 0.25 arc degrees.\n",
    "\n"
   ]
  },
  {
   "cell_type": "markdown",
   "metadata": {
    "id": "y-56O8H5ohO7"
   },
   "source": [
    "#Libraries Installation\n",
    "The first library installed is rasterio. This library allowed to elaborate save and load the raster files. it will be used to elaborate the maps loaded form Google Earth Engine. The second library is fiona that allow to clip the downloaded raster file with a mask (a shape file of the selected area)."
   ]
  },
  {
   "cell_type": "code",
   "execution_count": null,
   "metadata": {
    "colab": {
     "base_uri": "https://localhost:8080/"
    },
    "id": "ZTddgqX6Odzq",
    "outputId": "5de7a9bf-d836-47ae-dd34-79d23342d898"
   },
   "outputs": [
    {
     "name": "stdout",
     "output_type": "stream",
     "text": [
      "Collecting rasterio\n",
      "\u001b[?25l  Downloading https://files.pythonhosted.org/packages/a3/6e/b32a74bca3d4fca8286c6532cd5795ca8a2782125c23b383448ecd9a70b6/rasterio-1.2.6-cp37-cp37m-manylinux1_x86_64.whl (19.3MB)\n",
      "\u001b[K     |████████████████████████████████| 19.3MB 55.7MB/s \n",
      "\u001b[?25hRequirement already satisfied: certifi in /usr/local/lib/python3.7/dist-packages (from rasterio) (2021.5.30)\n",
      "Requirement already satisfied: attrs in /usr/local/lib/python3.7/dist-packages (from rasterio) (21.2.0)\n",
      "Collecting affine\n",
      "  Downloading https://files.pythonhosted.org/packages/ac/a6/1a39a1ede71210e3ddaf623982b06ecfc5c5c03741ae659073159184cd3e/affine-2.3.0-py2.py3-none-any.whl\n",
      "Collecting snuggs>=1.4.1\n",
      "  Downloading https://files.pythonhosted.org/packages/cc/0e/d27d6e806d6c0d1a2cfdc5d1f088e42339a0a54a09c3343f7f81ec8947ea/snuggs-1.4.7-py3-none-any.whl\n",
      "Collecting click-plugins\n",
      "  Downloading https://files.pythonhosted.org/packages/e9/da/824b92d9942f4e472702488857914bdd50f73021efea15b4cad9aca8ecef/click_plugins-1.1.1-py2.py3-none-any.whl\n",
      "Requirement already satisfied: setuptools in /usr/local/lib/python3.7/dist-packages (from rasterio) (57.0.0)\n",
      "Requirement already satisfied: click>=4.0 in /usr/local/lib/python3.7/dist-packages (from rasterio) (7.1.2)\n",
      "Requirement already satisfied: numpy in /usr/local/lib/python3.7/dist-packages (from rasterio) (1.19.5)\n",
      "Collecting cligj>=0.5\n",
      "  Downloading https://files.pythonhosted.org/packages/73/86/43fa9f15c5b9fb6e82620428827cd3c284aa933431405d1bcf5231ae3d3e/cligj-0.7.2-py3-none-any.whl\n",
      "Requirement already satisfied: pyparsing>=2.1.6 in /usr/local/lib/python3.7/dist-packages (from snuggs>=1.4.1->rasterio) (2.4.7)\n",
      "Installing collected packages: affine, snuggs, click-plugins, cligj, rasterio\n",
      "Successfully installed affine-2.3.0 click-plugins-1.1.1 cligj-0.7.2 rasterio-1.2.6 snuggs-1.4.7\n"
     ]
    }
   ],
   "source": [
    "pip install rasterio"
   ]
  },
  {
   "cell_type": "code",
   "execution_count": null,
   "metadata": {
    "colab": {
     "base_uri": "https://localhost:8080/"
    },
    "id": "HHCCOKraTYtT",
    "outputId": "3e74a2de-4067-4310-9b83-7a511e0ffcde"
   },
   "outputs": [
    {
     "name": "stdout",
     "output_type": "stream",
     "text": [
      "Collecting fiona\n",
      "\u001b[?25l  Downloading https://files.pythonhosted.org/packages/9c/fc/9807326c37a6bfb2393ae3e1cca147aa74844562c4d5daa782d6e97ad2bc/Fiona-1.8.20-cp37-cp37m-manylinux1_x86_64.whl (15.4MB)\n",
      "\u001b[K     |████████████████████████████████| 15.4MB 201kB/s \n",
      "\u001b[?25hCollecting munch\n",
      "  Downloading https://files.pythonhosted.org/packages/cc/ab/85d8da5c9a45e072301beb37ad7f833cd344e04c817d97e0cc75681d248f/munch-2.5.0-py2.py3-none-any.whl\n",
      "Requirement already satisfied: click-plugins>=1.0 in /usr/local/lib/python3.7/dist-packages (from fiona) (1.1.1)\n",
      "Requirement already satisfied: certifi in /usr/local/lib/python3.7/dist-packages (from fiona) (2021.5.30)\n",
      "Requirement already satisfied: cligj>=0.5 in /usr/local/lib/python3.7/dist-packages (from fiona) (0.7.2)\n",
      "Requirement already satisfied: attrs>=17 in /usr/local/lib/python3.7/dist-packages (from fiona) (21.2.0)\n",
      "Requirement already satisfied: click>=4.0 in /usr/local/lib/python3.7/dist-packages (from fiona) (7.1.2)\n",
      "Requirement already satisfied: six>=1.7 in /usr/local/lib/python3.7/dist-packages (from fiona) (1.15.0)\n",
      "Requirement already satisfied: setuptools in /usr/local/lib/python3.7/dist-packages (from fiona) (57.0.0)\n",
      "Installing collected packages: munch, fiona\n",
      "Successfully installed fiona-1.8.20 munch-2.5.0\n"
     ]
    }
   ],
   "source": [
    "pip install fiona"
   ]
  },
  {
   "cell_type": "markdown",
   "metadata": {
    "id": "q0fmY7qvoqxx"
   },
   "source": [
    "#Acces to google earth engine and import all the libraries\n",
    "This section imports all the libraries that are used in the following code to download and process the data. This section also initializes Earth Engine. Follow the displayed instruction to log in. It is necessary a Google Earth Engine account to precede with the log in and to run the following code."
   ]
  },
  {
   "cell_type": "code",
   "execution_count": null,
   "metadata": {
    "colab": {
     "base_uri": "https://localhost:8080/"
    },
    "id": "CaD-e2lcXNPT",
    "outputId": "4213d03b-887a-4fb7-c4fe-f7c5e548a101"
   },
   "outputs": [
    {
     "name": "stdout",
     "output_type": "stream",
     "text": [
      "To authorize access needed by Earth Engine, open the following URL in a web browser and follow the instructions. If the web browser does not start automatically, please manually browse the URL below.\n",
      "\n",
      "    https://accounts.google.com/o/oauth2/auth?client_id=517222506229-vsmmajv00ul0bs7p89v5m89qs8eb9359.apps.googleusercontent.com&scope=https%3A%2F%2Fwww.googleapis.com%2Fauth%2Fearthengine+https%3A%2F%2Fwww.googleapis.com%2Fauth%2Fdevstorage.full_control&redirect_uri=urn%3Aietf%3Awg%3Aoauth%3A2.0%3Aoob&response_type=code&code_challenge=3xjUpDm6TUlv_8_s5uCYiem49T9qTz8BBy9zA8SE6rM&code_challenge_method=S256\n",
      "\n",
      "The authorization workflow will generate a code, which you should paste in the box below. \n",
      "Enter verification code: 4/1AX4XfWhELt0TMIZXWznjTfXFXrbqUcCZzHZiF5VuF5NNhzuK_sm4JwC1AtU\n",
      "\n",
      "Successfully saved authorization token.\n"
     ]
    }
   ],
   "source": [
    "import ee\n",
    "ee.Authenticate()\n",
    "ee.Initialize()"
   ]
  },
  {
   "cell_type": "code",
   "execution_count": null,
   "metadata": {
    "id": "Coe0_VMpGjKw"
   },
   "outputs": [],
   "source": [
    "import requests\n",
    "import zipfile\n",
    "import numpy as np\n",
    "import calendar\n",
    "import fiona\n",
    "import rasterio.mask\n",
    "from rasterio.warp import calculate_default_transform, reproject, Resampling\n",
    "import calendar\n",
    "import os\n",
    "import ipywidgets as widgets\n",
    "import smtplib\n",
    "from google.colab import files\n",
    "import zlib\n",
    "from osgeo import gdal\n"
   ]
  },
  {
   "cell_type": "markdown",
   "metadata": {
    "id": "KRlU113FpAh-"
   },
   "source": [
    "#Slect period and area\n",
    "\n",
    "In this section it is possible to select the area of interest and the dates between which the daily data are to be downloaded.\n",
    "Warning! An area larger than the SWB grid area must be selected. The coordinates of the area must be provided according to the WGS 84 reference system, without considering the RS of the output.\n"
   ]
  },
  {
   "cell_type": "code",
   "execution_count": null,
   "metadata": {
    "id": "eYGejd8zo63k"
   },
   "outputs": [],
   "source": [
    "yearStart = 2019\n",
    "yearEnd = 2019\n",
    "monthStart = 1\n",
    "monthEnd = 12\n",
    "\n",
    "\n",
    "left = 6\n",
    "down = 43\n",
    "right =14\n",
    "up = 47"
   ]
  },
  {
   "cell_type": "markdown",
   "metadata": {
    "id": "mQl-DLWxpL9M"
   },
   "source": [
    "#Download maximum temperature data\n",
    "\n",
    "The download section is divided in three subsections. The first section downloads and pre-process the Maximum temperature data.\n",
    "The code first downloads the raster from the data catalog, the data is downloaded for the area selected in the previous section and is provided as a compressed folder containing a raster file.\n",
    "The downloaded zipped file is extracted, reprojected, resampled (to the grid resolution) and clipped coherently with the SWB input grid box.\n",
    "The code requires a shape file of the area of interest (Po river basin) referenced to the SR of the output file.\n",
    "The output reference system is defined in the code as a string in the dst_crs variable.\n",
    "Finally, the output file is converted to arc ASCII (.asc) format, is compressed, and is saved in a compressed folder that contains all data from the same year.\n",
    "\n",
    "When all daily files for a given year are zipped into the folder, an automatic download of the compressed folder begins.\n",
    "\n",
    "When the code has completed the creation of all the compressed folders, an email can be automatically sent to the user's email. Enter your e-mail address in the code line (substitute your@email.com).\n",
    "\n",
    "\n",
    "\n"
   ]
  },
  {
   "cell_type": "code",
   "execution_count": null,
   "metadata": {
    "colab": {
     "base_uri": "https://localhost:8080/",
     "referenced_widgets": [
      "c8c56ec21cb54802aa185e951d385e27",
      "989b647b77bb4600a787f264f16ba803",
      "f6c388a023314df6913680fe68316b0b"
     ]
    },
    "id": "PlJNFdvO8VZF",
    "outputId": "e038a3c1-ba19-438e-da90-f825efc12109"
   },
   "outputs": [
    {
     "data": {
      "application/vnd.jupyter.widget-view+json": {
       "model_id": "c8c56ec21cb54802aa185e951d385e27",
       "version_major": 2,
       "version_minor": 0
      },
      "text/plain": [
       "IntProgress(value=0, bar_style='success', description='Loading:', max=12)"
      ]
     },
     "metadata": {
      "tags": []
     },
     "output_type": "display_data"
    },
    {
     "data": {
      "application/javascript": [
       "\n",
       "    async function download(id, filename, size) {\n",
       "      if (!google.colab.kernel.accessAllowed) {\n",
       "        return;\n",
       "      }\n",
       "      const div = document.createElement('div');\n",
       "      const label = document.createElement('label');\n",
       "      label.textContent = `Downloading \"${filename}\": `;\n",
       "      div.appendChild(label);\n",
       "      const progress = document.createElement('progress');\n",
       "      progress.max = size;\n",
       "      div.appendChild(progress);\n",
       "      document.body.appendChild(div);\n",
       "\n",
       "      const buffers = [];\n",
       "      let downloaded = 0;\n",
       "\n",
       "      const channel = await google.colab.kernel.comms.open(id);\n",
       "      // Send a message to notify the kernel that we're ready.\n",
       "      channel.send({})\n",
       "\n",
       "      for await (const message of channel.messages) {\n",
       "        // Send a message to notify the kernel that we're ready.\n",
       "        channel.send({})\n",
       "        if (message.buffers) {\n",
       "          for (const buffer of message.buffers) {\n",
       "            buffers.push(buffer);\n",
       "            downloaded += buffer.byteLength;\n",
       "            progress.value = downloaded;\n",
       "          }\n",
       "        }\n",
       "      }\n",
       "      const blob = new Blob(buffers, {type: 'application/binary'});\n",
       "      const a = document.createElement('a');\n",
       "      a.href = window.URL.createObjectURL(blob);\n",
       "      a.download = filename;\n",
       "      div.appendChild(a);\n",
       "      a.click();\n",
       "      div.remove();\n",
       "    }\n",
       "  "
      ],
      "text/plain": [
       "<IPython.core.display.Javascript object>"
      ]
     },
     "metadata": {
      "tags": []
     },
     "output_type": "display_data"
    },
    {
     "data": {
      "application/javascript": [
       "download(\"download_a8283ed2-acd5-4af3-9e18-b4f344d8fb2c\", \"tmax_2019.zip\", 203714194)"
      ],
      "text/plain": [
       "<IPython.core.display.Javascript object>"
      ]
     },
     "metadata": {
      "tags": []
     },
     "output_type": "display_data"
    },
    {
     "name": "stdout",
     "output_type": "stream",
     "text": [
      "Sent\n"
     ]
    }
   ],
   "source": [
    "w = widgets.IntProgress(\n",
    "    value=0,\n",
    "    min=0,\n",
    "    max=(yearEnd-yearStart+1)*12,\n",
    "    description='Loading:',\n",
    "    bar_style='success',\n",
    "    orientation='horizontal')\n",
    "display(w)\n",
    " \n",
    "for year in list(range(yearStart, yearEnd + 1)):\n",
    " zip_name = 'tmax_%04d.zip' % (year)\n",
    " zipObj = zipfile.ZipFile(zip_name, 'w',zipfile.ZIP_DEFLATED )\n",
    " for month in list(range(monthStart, monthEnd + 1)):\n",
    "  numberOfDays = calendar.monthrange(year, month)[1]\n",
    "  for day in  list(range(1, numberOfDays+1)):\n",
    "    targetFile = \"tmax_%04d_%02d_%02d.tif\" % (year, month, day)\n",
    "    requestDate = '%04d-%02d-%02d' % (year, month, day)\n",
    "\n",
    "    if (day+1)>numberOfDays and  month == 12:\n",
    "      dayAfter = '%04d-%02d-%02d'  % (year+1, 1, 1)\n",
    "    elif (day+1)>numberOfDays:\n",
    "      dayAfter = '%04d-%02d-%02d'  % (year, month+1, 1)     \n",
    "    else:\n",
    "      dayAfter = '%04d-%02d-%02d'  % (year, month, (day+1))    \n",
    "    \n",
    "    # Import the MODIS land cover collection.\n",
    "    dataset = ee.ImageCollection(\"ECMWF/ERA5/DAILY\").filter(ee.Filter.date(requestDate, dayAfter)).first()\n",
    "    aoi = ee.Geometry.Rectangle(left,down,right,up)\n",
    "    img = dataset.clip(aoi)\n",
    "\n",
    "    url = img.getDownloadURL({\n",
    "      'bands': 'maximum_2m_air_temperature',\n",
    "      'min': 250,\n",
    "      'max': 320,})\n",
    "\n",
    "    filename = 'Myfile.zip'\n",
    "\n",
    "    r = requests.get(url, stream=True)\n",
    "    with open(filename, 'wb') as fd:\n",
    "        for chunk in r.iter_content(chunk_size=None):\n",
    "            fd.write(chunk)\n",
    "    z = zipfile.ZipFile(filename)\n",
    "    z.extractall()\n",
    "\n",
    "    dst_crs = 'ESRI:54012'\n",
    "\n",
    "    FileName = '%04d%02d%02d.maximum_2m_air_temperature.tif'  % (year, month, (day))\n",
    "\n",
    "    with rasterio.open(FileName) as src:\n",
    "        transform, width, height = calculate_default_transform(\n",
    "            src.crs, dst_crs, src.width, src.height, *src.bounds)#, resolution=([250,250]))\n",
    "        kwargs = src.meta.copy()\n",
    "        kwargs.update({\n",
    "            'crs': dst_crs,\n",
    "            'transform': transform,\n",
    "            'width': width,\n",
    "            'height': height\n",
    "        })\n",
    "\n",
    "        with rasterio.open('reprojected.tif', 'w', **kwargs) as dst:\n",
    "            for i in range(1, src.count + 1):\n",
    "                reproject(\n",
    "                    source=rasterio.band(src, i),\n",
    "                    destination=rasterio.band(dst, i),\n",
    "                    src_transform=src.transform,\n",
    "                    src_crs=src.crs,\n",
    "                    dst_transform=transform,\n",
    "                    dst_crs=dst_crs,\n",
    "                    resampling=Resampling.nearest)\n",
    " \n",
    "\n",
    "    with rasterio.open('reprojected.tif') as src:\n",
    "        transform, width, height = calculate_default_transform(\n",
    "            src.crs, dst_crs, src.width, src.height, left=540000.0, bottom=5300000.0, right=1200000.0, top=5800000.0, resolution=([250,250]))\n",
    "        kwargs = src.meta.copy()\n",
    "        kwargs.update({\n",
    "            'crs': dst_crs,\n",
    "            'transform': transform,\n",
    "            'width': width,\n",
    "            'height': height\n",
    "        })\n",
    "\n",
    "        with rasterio.open('reproj_cut.tif', 'w', **kwargs) as dst:\n",
    "            for i in range(1, src.count + 1):\n",
    "                reproject(\n",
    "                    source=rasterio.band(src, i),\n",
    "                    destination=rasterio.band(dst, i),\n",
    "                    src_transform=src.transform,\n",
    "                    src_crs=src.crs,\n",
    "                    dst_transform=transform,\n",
    "                    dst_crs=dst_crs,\n",
    "                    resampling=Resampling.nearest)\n",
    "            \n",
    "    with fiona.open(\"box.shp\", \"r\") as shapefile:\n",
    "        shapes = [feature[\"geometry\"] for feature in shapefile]\n",
    "\n",
    "    with rasterio.open(\"reproj_cut.tif\") as src:\n",
    "        out_image, out_transform = rasterio.mask.mask(src, shapes, crop=True)\n",
    "        out_meta = src.meta\n",
    "\n",
    "    out_meta.update({\"driver\": \"GTiff\",\n",
    "                     \"height\": out_image.shape[1],\n",
    "                     \"width\": out_image.shape[2],\n",
    "                     \"transform\": out_transform})\n",
    "\n",
    "    with rasterio.open(targetFile, \"w\", **out_meta) as dest:\n",
    "        dest.write((((out_image-273.15)*1.8)+32)) #converted in °F\n",
    "\n",
    "    targetFile_ascii =  \"tmax_%04d_%02d_%02d.asc\" % (year, month, day)\n",
    "    targetFile_prj =  \"tmax_%04d_%02d_%02d.prj\" % (year, month, day)\n",
    "    #Open existing dataset\n",
    "    src_ds = gdal.Open( targetFile )\n",
    "    #Open output format driver, see gdal_translate --formats for list\n",
    "    format = \"AAIGrid\"\n",
    "    driver = gdal.GetDriverByName( format )\n",
    "\n",
    "    #Output to new format\n",
    "    dst_ds = driver.CreateCopy( targetFile_ascii, src_ds, 0 )\n",
    "\n",
    "    #Properly close the datasets to flush to disk\n",
    "    dst_ds = None\n",
    "    src_ds = None\n",
    "\n",
    "    zipObj.write(targetFile_ascii)\n",
    "    os.remove(targetFile)\n",
    "    os.remove(targetFile_ascii)\n",
    "    os.remove(targetFile_ascii+'.aux.xml')\n",
    "    os.remove(targetFile_prj)\n",
    "    os.remove(FileName)\n",
    "  w.value += 1\n",
    " # close the Zip File\n",
    " zipObj.close() \n",
    " files.download(zip_name) \n",
    "  \n",
    "content = ('Ei dummy, the calculation in colab is finished! download them before you lose everything!')\n",
    "mail = smtplib.SMTP('smtp.gmail.com',587)\n",
    "\n",
    "mail.ehlo()\n",
    "\n",
    "mail.starttls()\n",
    "\n",
    "mail.login('meteodatapython@gmail.com','pythoncode1')\n",
    "\n",
    "mail.sendmail('meteodatapython@gmail.com','your@email.com',content) \n",
    "\n",
    "mail.close()\n",
    "\n",
    "print(\"Sent\")"
   ]
  },
  {
   "cell_type": "markdown",
   "metadata": {
    "id": "NOt8Fz0HpVwc"
   },
   "source": [
    "#Download minimum temperature data\n",
    "In this section are performed the same operation of the previous section for the minimum temperature data."
   ]
  },
  {
   "cell_type": "code",
   "execution_count": null,
   "metadata": {
    "colab": {
     "base_uri": "https://localhost:8080/",
     "referenced_widgets": [
      "9737779405e146d1833bdb1f954d7e7c",
      "7f83b0185b7e47f68c85d26058e4fa37",
      "74cb73f3e1014452bc9b0dc52f9bd8bc"
     ]
    },
    "id": "DRdeLjFZGOxM",
    "outputId": "e8472a0f-0780-4b94-99d2-db415f7b1b1a"
   },
   "outputs": [
    {
     "data": {
      "application/vnd.jupyter.widget-view+json": {
       "model_id": "9737779405e146d1833bdb1f954d7e7c",
       "version_major": 2,
       "version_minor": 0
      },
      "text/plain": [
       "IntProgress(value=0, bar_style='success', description='Loading:', max=12)"
      ]
     },
     "metadata": {
      "tags": []
     },
     "output_type": "display_data"
    },
    {
     "data": {
      "application/javascript": [
       "\n",
       "    async function download(id, filename, size) {\n",
       "      if (!google.colab.kernel.accessAllowed) {\n",
       "        return;\n",
       "      }\n",
       "      const div = document.createElement('div');\n",
       "      const label = document.createElement('label');\n",
       "      label.textContent = `Downloading \"${filename}\": `;\n",
       "      div.appendChild(label);\n",
       "      const progress = document.createElement('progress');\n",
       "      progress.max = size;\n",
       "      div.appendChild(progress);\n",
       "      document.body.appendChild(div);\n",
       "\n",
       "      const buffers = [];\n",
       "      let downloaded = 0;\n",
       "\n",
       "      const channel = await google.colab.kernel.comms.open(id);\n",
       "      // Send a message to notify the kernel that we're ready.\n",
       "      channel.send({})\n",
       "\n",
       "      for await (const message of channel.messages) {\n",
       "        // Send a message to notify the kernel that we're ready.\n",
       "        channel.send({})\n",
       "        if (message.buffers) {\n",
       "          for (const buffer of message.buffers) {\n",
       "            buffers.push(buffer);\n",
       "            downloaded += buffer.byteLength;\n",
       "            progress.value = downloaded;\n",
       "          }\n",
       "        }\n",
       "      }\n",
       "      const blob = new Blob(buffers, {type: 'application/binary'});\n",
       "      const a = document.createElement('a');\n",
       "      a.href = window.URL.createObjectURL(blob);\n",
       "      a.download = filename;\n",
       "      div.appendChild(a);\n",
       "      a.click();\n",
       "      div.remove();\n",
       "    }\n",
       "  "
      ],
      "text/plain": [
       "<IPython.core.display.Javascript object>"
      ]
     },
     "metadata": {
      "tags": []
     },
     "output_type": "display_data"
    },
    {
     "data": {
      "application/javascript": [
       "download(\"download_65d9933f-c277-459f-a580-49623d438e9e\", \"tmin_2019.zip\", 208666799)"
      ],
      "text/plain": [
       "<IPython.core.display.Javascript object>"
      ]
     },
     "metadata": {
      "tags": []
     },
     "output_type": "display_data"
    },
    {
     "name": "stdout",
     "output_type": "stream",
     "text": [
      "Sent\n"
     ]
    }
   ],
   "source": [
    "w = widgets.IntProgress(\n",
    "    value=0,\n",
    "    min=0,\n",
    "    max=(yearEnd-yearStart+1)*12,\n",
    "    description='Loading:',\n",
    "    bar_style='success',\n",
    "    orientation='horizontal')\n",
    "display(w)\n",
    " \n",
    "for year in list(range(yearStart, yearEnd + 1)):\n",
    " zip_name = 'tmin_%04d.zip' % (year)\t\n",
    " zipObj = zipfile.ZipFile(zip_name, 'w',zipfile.ZIP_DEFLATED )\n",
    " for month in list(range(monthStart, monthEnd + 1)):\n",
    "  numberOfDays = calendar.monthrange(year, month)[1]\n",
    "  for day in  list(range(1, numberOfDays+1)):\n",
    "    targetFile = \"tmin_%04d_%02d_%02d.tif\" % (year, month, day)\n",
    "    requestDate = '%04d-%02d-%02d' % (year, month, day)\n",
    "\n",
    "    if (day+1)>numberOfDays and  month == 12:\n",
    "      dayAfter = '%04d-%02d-%02d'  % (year+1, 1, 1)\n",
    "    elif (day+1)>numberOfDays:\n",
    "      dayAfter = '%04d-%02d-%02d'  % (year, month+1, 1)     \n",
    "    else:\n",
    "      dayAfter = '%04d-%02d-%02d'  % (year, month, (day+1))    \n",
    "    \n",
    "    # Import the MODIS land cover collection.\n",
    "    dataset = ee.ImageCollection(\"ECMWF/ERA5/DAILY\").filter(ee.Filter.date(requestDate, dayAfter)).first()\n",
    "    aoi = ee.Geometry.Rectangle(left,down,right,up)\n",
    "    img = dataset.clip(aoi)\n",
    "\n",
    "    url = img.getDownloadURL({\n",
    "      'bands': 'minimum_2m_air_temperature',\n",
    "      'min': 250,\n",
    "      'max': 320,})\n",
    "\n",
    "    filename = 'Myfile.zip'\n",
    "\n",
    "    r = requests.get(url, stream=True)\n",
    "    with open(filename, 'wb') as fd:\n",
    "        for chunk in r.iter_content(chunk_size=None):\n",
    "            fd.write(chunk)\n",
    "    z = zipfile.ZipFile(filename)\n",
    "    z.extractall()\n",
    "\n",
    "    dst_crs = 'ESRI:54012'\n",
    "\n",
    "    FileName = '%04d%02d%02d.minimum_2m_air_temperature.tif'  % (year, month, (day))\n",
    "\n",
    "    with rasterio.open(FileName) as src:\n",
    "        transform, width, height = calculate_default_transform(\n",
    "            src.crs, dst_crs, src.width, src.height, *src.bounds)#, resolution=([250,250]))\n",
    "        kwargs = src.meta.copy()\n",
    "        kwargs.update({\n",
    "            'crs': dst_crs,\n",
    "            'transform': transform,\n",
    "            'width': width,\n",
    "            'height': height\n",
    "        })\n",
    "\n",
    "        with rasterio.open('reprojected.tif', 'w', **kwargs) as dst:\n",
    "            for i in range(1, src.count + 1):\n",
    "                reproject(\n",
    "                    source=rasterio.band(src, i),\n",
    "                    destination=rasterio.band(dst, i),\n",
    "                    src_transform=src.transform,\n",
    "                    src_crs=src.crs,\n",
    "                    dst_transform=transform,\n",
    "                    dst_crs=dst_crs,\n",
    "                    resampling=Resampling.nearest)\n",
    " \n",
    "\n",
    "    with rasterio.open('reprojected.tif') as src:\n",
    "        transform, width, height = calculate_default_transform(\n",
    "            src.crs, dst_crs, src.width, src.height, left=540000.0, bottom=5300000.0, right=1200000.0, top=5800000.0, resolution=([250,250]))\n",
    "        kwargs = src.meta.copy()\n",
    "        kwargs.update({\n",
    "            'crs': dst_crs,\n",
    "            'transform': transform,\n",
    "            'width': width,\n",
    "            'height': height\n",
    "        })\n",
    "\n",
    "        with rasterio.open('reproj_cut.tif', 'w', **kwargs) as dst:\n",
    "            for i in range(1, src.count + 1):\n",
    "                reproject(\n",
    "                    source=rasterio.band(src, i),\n",
    "                    destination=rasterio.band(dst, i),\n",
    "                    src_transform=src.transform,\n",
    "                    src_crs=src.crs,\n",
    "                    dst_transform=transform,\n",
    "                    dst_crs=dst_crs,\n",
    "                    resampling=Resampling.nearest)\n",
    "            \n",
    "    with fiona.open(\"box.shp\", \"r\") as shapefile:\n",
    "        shapes = [feature[\"geometry\"] for feature in shapefile]\n",
    "\n",
    "    with rasterio.open(\"reproj_cut.tif\") as src:\n",
    "        out_image, out_transform = rasterio.mask.mask(src, shapes, crop=True)\n",
    "        out_meta = src.meta\n",
    "\n",
    "    out_meta.update({\"driver\": \"GTiff\",\n",
    "                     \"height\": out_image.shape[1],\n",
    "                     \"width\": out_image.shape[2],\n",
    "                     \"transform\": out_transform})\n",
    "\n",
    "    with rasterio.open(targetFile, \"w\", **out_meta) as dest:\n",
    "        dest.write((((out_image-273.15)*1.8)+32)) #converted in °F\n",
    "\t\n",
    "    targetFile_ascii =  \"tmin_%04d_%02d_%02d.asc\" % (year, month, day)\t\n",
    "    targetFile_prj =  \"tmin_%04d_%02d_%02d.prj\" % (year, month, day)\t\n",
    "    #Open existing dataset\t\n",
    "    src_ds = gdal.Open( targetFile )\t\n",
    "    #Open output format driver, see gdal_translate --formats for list\t\n",
    "    format = \"AAIGrid\"\t\n",
    "    driver = gdal.GetDriverByName( format )\t\n",
    "    #Output to new format\t\n",
    "    dst_ds = driver.CreateCopy( targetFile_ascii, src_ds, 0 )\t\n",
    "    #Properly close the datasets to flush to disk\t\n",
    "    dst_ds = None\t\n",
    "    src_ds = None\t\n",
    "    zipObj.write(targetFile_ascii)\t\n",
    "    os.remove(targetFile)\t\n",
    "    os.remove(targetFile_ascii)\t\n",
    "    os.remove(targetFile_ascii+'.aux.xml')\t\n",
    "    os.remove(targetFile_prj)    \n",
    "    os.remove(FileName)\n",
    "  w.value += 1\n",
    " # close the Zip File\t\n",
    " zipObj.close() \t\n",
    " files.download(zip_name) \n",
    "\n",
    "content = ('Ei dummy, the calculation in colab is finished! download them before you lose everything!')\n",
    " \n",
    "mail = smtplib.SMTP('smtp.gmail.com',587)\n",
    "\n",
    "mail.ehlo()\n",
    "\n",
    "mail.starttls()\n",
    "\n",
    "mail.login('meteodatapython@gmail.com','pythoncode1')\n",
    "\n",
    "mail.sendmail('meteodatapython@gmail.com','your@email.com',content) \n",
    "\n",
    "mail.close()\n",
    "\n",
    "print(\"Sent\")"
   ]
  },
  {
   "cell_type": "markdown",
   "metadata": {
    "id": "0p-xN7IUpdBO"
   },
   "source": [
    "#Download precipitation data\n",
    "\n",
    "In this section are performed the same operation of the previous section for the precipitation data.\n",
    "\n"
   ]
  },
  {
   "cell_type": "code",
   "execution_count": null,
   "metadata": {
    "colab": {
     "base_uri": "https://localhost:8080/",
     "referenced_widgets": [
      "456cc9cf33c948979190e76db8abce1d",
      "1a38dc46a8fb40c09c6b07550d0af0cc",
      "1c0c41cec82d43c09b5634568a09cd06"
     ]
    },
    "id": "OSSM9Cl6Gca3",
    "outputId": "a7978e40-8a39-4444-f0b1-789b82760e0c"
   },
   "outputs": [
    {
     "data": {
      "application/vnd.jupyter.widget-view+json": {
       "model_id": "456cc9cf33c948979190e76db8abce1d",
       "version_major": 2,
       "version_minor": 0
      },
      "text/plain": [
       "IntProgress(value=0, bar_style='success', description='Loading:', max=12)"
      ]
     },
     "metadata": {
      "tags": []
     },
     "output_type": "display_data"
    },
    {
     "data": {
      "application/javascript": [
       "\n",
       "    async function download(id, filename, size) {\n",
       "      if (!google.colab.kernel.accessAllowed) {\n",
       "        return;\n",
       "      }\n",
       "      const div = document.createElement('div');\n",
       "      const label = document.createElement('label');\n",
       "      label.textContent = `Downloading \"${filename}\": `;\n",
       "      div.appendChild(label);\n",
       "      const progress = document.createElement('progress');\n",
       "      progress.max = size;\n",
       "      div.appendChild(progress);\n",
       "      document.body.appendChild(div);\n",
       "\n",
       "      const buffers = [];\n",
       "      let downloaded = 0;\n",
       "\n",
       "      const channel = await google.colab.kernel.comms.open(id);\n",
       "      // Send a message to notify the kernel that we're ready.\n",
       "      channel.send({})\n",
       "\n",
       "      for await (const message of channel.messages) {\n",
       "        // Send a message to notify the kernel that we're ready.\n",
       "        channel.send({})\n",
       "        if (message.buffers) {\n",
       "          for (const buffer of message.buffers) {\n",
       "            buffers.push(buffer);\n",
       "            downloaded += buffer.byteLength;\n",
       "            progress.value = downloaded;\n",
       "          }\n",
       "        }\n",
       "      }\n",
       "      const blob = new Blob(buffers, {type: 'application/binary'});\n",
       "      const a = document.createElement('a');\n",
       "      a.href = window.URL.createObjectURL(blob);\n",
       "      a.download = filename;\n",
       "      div.appendChild(a);\n",
       "      a.click();\n",
       "      div.remove();\n",
       "    }\n",
       "  "
      ],
      "text/plain": [
       "<IPython.core.display.Javascript object>"
      ]
     },
     "metadata": {
      "tags": []
     },
     "output_type": "display_data"
    },
    {
     "data": {
      "application/javascript": [
       "download(\"download_f9fe0044-40e6-4d22-8be7-8c934cd3b1a5\", \"precip_2019.zip\", 185283959)"
      ],
      "text/plain": [
       "<IPython.core.display.Javascript object>"
      ]
     },
     "metadata": {
      "tags": []
     },
     "output_type": "display_data"
    },
    {
     "name": "stdout",
     "output_type": "stream",
     "text": [
      "Sent\n"
     ]
    }
   ],
   "source": [
    "w = widgets.IntProgress(\n",
    "    value=0,\n",
    "    min=0,\n",
    "    max=(yearEnd-yearStart+1)*12,\n",
    "    description='Loading:',\n",
    "    bar_style='success',\n",
    "    orientation='horizontal')\n",
    "display(w)\n",
    " \n",
    "for year in list(range(yearStart, yearEnd + 1)):\n",
    " zip_name = 'precip_%04d.zip' % (year)\t\n",
    " zipObj = zipfile.ZipFile(zip_name, 'w',zipfile.ZIP_DEFLATED )\n",
    " for month in list(range(monthStart, monthEnd + 1)):\n",
    "  numberOfDays = calendar.monthrange(year, month)[1]\n",
    "  for day in  list(range(1, numberOfDays+1)):\n",
    "    targetFile = \"precip_%04d_%02d_%02d.tif\" % (year, month, day)\n",
    "    requestDate = '%04d-%02d-%02d' % (year, month, day)\n",
    "\n",
    "    if (day+1)>numberOfDays and  month == 12:\n",
    "      dayAfter = '%04d-%02d-%02d'  % (year+1, 1, 1)\n",
    "    elif (day+1)>numberOfDays:\n",
    "      dayAfter = '%04d-%02d-%02d'  % (year, month+1, 1)     \n",
    "    else:\n",
    "      dayAfter = '%04d-%02d-%02d'  % (year, month, (day+1))    \n",
    "    \n",
    "    # Import the MODIS land cover collection.\n",
    "    dataset = ee.ImageCollection(\"ECMWF/ERA5/DAILY\").filter(ee.Filter.date(requestDate, dayAfter)).first()\n",
    "    aoi = ee.Geometry.Rectangle(left,down,right,up)\n",
    "    img = dataset.clip(aoi)\n",
    "\n",
    "    url = img.getDownloadURL({\n",
    "      'bands': 'total_precipitation',\n",
    "      'min': 250,\n",
    "      'max': 320,})\n",
    "\n",
    "    filename = 'Myfile.zip'\n",
    "\n",
    "    r = requests.get(url, stream=True)\n",
    "    with open(filename, 'wb') as fd:\n",
    "        for chunk in r.iter_content(chunk_size=None):\n",
    "            fd.write(chunk)\n",
    "    z = zipfile.ZipFile(filename)\n",
    "    z.extractall()\n",
    "\n",
    "    dst_crs = 'ESRI:54012'\n",
    "\n",
    "    FileName = '%04d%02d%02d.total_precipitation.tif'  % (year, month, (day))\n",
    "\n",
    "    with rasterio.open(FileName) as src:\n",
    "        transform, width, height = calculate_default_transform(\n",
    "            src.crs, dst_crs, src.width, src.height, *src.bounds)#, resolution=([250,250]))\n",
    "        kwargs = src.meta.copy()\n",
    "        kwargs.update({\n",
    "            'crs': dst_crs,\n",
    "            'transform': transform,\n",
    "            'width': width,\n",
    "            'height': height\n",
    "        })\n",
    "\n",
    "        with rasterio.open('reprojected.tif', 'w', **kwargs) as dst:\n",
    "            for i in range(1, src.count + 1):\n",
    "                reproject(\n",
    "                    source=rasterio.band(src, i),\n",
    "                    destination=rasterio.band(dst, i),\n",
    "                    src_transform=src.transform,\n",
    "                    src_crs=src.crs,\n",
    "                    dst_transform=transform,\n",
    "                    dst_crs=dst_crs,\n",
    "                    resampling=Resampling.nearest)\n",
    " \n",
    "\n",
    "    with rasterio.open('reprojected.tif') as src:\n",
    "        transform, width, height = calculate_default_transform(\n",
    "            src.crs, dst_crs, src.width, src.height, left=540000.0, bottom=5300000.0, right=1200000.0, top=5800000.0, resolution=([250,250]))\n",
    "        kwargs = src.meta.copy()\n",
    "        kwargs.update({\n",
    "            'crs': dst_crs,\n",
    "            'transform': transform,\n",
    "            'width': width,\n",
    "            'height': height\n",
    "        })\n",
    "\n",
    "        with rasterio.open('reproj_cut.tif', 'w', **kwargs) as dst:\n",
    "            for i in range(1, src.count + 1):\n",
    "                reproject(\n",
    "                    source=rasterio.band(src, i),\n",
    "                    destination=rasterio.band(dst, i),\n",
    "                    src_transform=src.transform,\n",
    "                    src_crs=src.crs,\n",
    "                    dst_transform=transform,\n",
    "                    dst_crs=dst_crs,\n",
    "                    resampling=Resampling.nearest)\n",
    "            \n",
    "    with fiona.open(\"box.shp\", \"r\") as shapefile:\n",
    "        shapes = [feature[\"geometry\"] for feature in shapefile]\n",
    "\n",
    "    with rasterio.open(\"reproj_cut.tif\") as src:\n",
    "        out_image, out_transform = rasterio.mask.mask(src, shapes, crop=True)\n",
    "        out_meta = src.meta\n",
    "\n",
    "    out_meta.update({\"driver\": \"GTiff\",\n",
    "                     \"height\": out_image.shape[1],\n",
    "                     \"width\": out_image.shape[2],\n",
    "                     \"transform\": out_transform})\n",
    "\n",
    "    with rasterio.open(targetFile, \"w\", **out_meta) as dest:\n",
    "        dest.write((out_image*39.3701)) # converted in inches\n",
    "\t\n",
    "    targetFile_ascii =  \"precip_%04d_%02d_%02d.asc\" % (year, month, day)\t\n",
    "    targetFile_prj =  \"precip_%04d_%02d_%02d.prj\" % (year, month, day)\t\n",
    "    #Open existing dataset\t\n",
    "    src_ds = gdal.Open( targetFile )\t\n",
    "    #Open output format driver, see gdal_translate --formats for list\t\n",
    "    format = \"AAIGrid\"\t\n",
    "    driver = gdal.GetDriverByName( format )\t\n",
    "    #Output to new format\t\n",
    "    dst_ds = driver.CreateCopy( targetFile_ascii, src_ds, 0 )\t\n",
    "    #Properly close the datasets to flush to disk\t\n",
    "    dst_ds = None\t\n",
    "    src_ds = None\t\n",
    "    zipObj.write(targetFile_ascii)\t\n",
    "    os.remove(targetFile)\t\n",
    "    os.remove(targetFile_ascii)\t\n",
    "    os.remove(targetFile_ascii+'.aux.xml')\t\n",
    "    os.remove(targetFile_prj)\n",
    "    os.remove(FileName)\n",
    "  w.value += 1\n",
    " # close the Zip File\t\n",
    " zipObj.close() \t\n",
    " files.download(zip_name) \n",
    "\n",
    "content = ('Ei dummy, the calculation in colab is finished! download them before you lose everything!')\n",
    "mail = smtplib.SMTP('smtp.gmail.com',587)\n",
    "\n",
    "mail.ehlo()\n",
    "\n",
    "mail.starttls()\n",
    "\n",
    "mail.login('meteodatapython@gmail.com','pythoncode1')\n",
    "\n",
    "mail.sendmail('meteodatapython@gmail.com','your@email.com',content) \n",
    "\n",
    "mail.close()\n",
    "\n",
    "print(\"Sent\")"
   ]
  },
  {
   "cell_type": "markdown",
   "metadata": {
    "id": "RGqXd3nrBGf-"
   },
   "source": [
    "#Referencies\n",
    "\n",
    "Copernicus Climate Change Service (C3S) (2017): ERA5: Fifth generation of ECMWF atmospheric reanalyses of the global climate. Copernicus Climate Change Service Climate Data Store (CDS), (date of access), https://cds.climate.copernicus.eu/cdsapp#!/home"
   ]
  }
 ],
 "metadata": {
  "colab": {
   "collapsed_sections": [
    "y-56O8H5ohO7",
    "q0fmY7qvoqxx",
    "KRlU113FpAh-",
    "mQl-DLWxpL9M",
    "NOt8Fz0HpVwc",
    "0p-xN7IUpdBO"
   ],
   "name": "meteo_data.ipynb",
   "provenance": []
  },
  "kernelspec": {
   "display_name": "Python 3",
   "language": "python",
   "name": "python3"
  },
  "language_info": {
   "codemirror_mode": {
    "name": "ipython",
    "version": 3
   },
   "file_extension": ".py",
   "mimetype": "text/x-python",
   "name": "python",
   "nbconvert_exporter": "python",
   "pygments_lexer": "ipython3",
   "version": "3.8.5"
  },
  "widgets": {
   "application/vnd.jupyter.widget-state+json": {
    "1a38dc46a8fb40c09c6b07550d0af0cc": {
     "model_module": "@jupyter-widgets/controls",
     "model_name": "ProgressStyleModel",
     "state": {
      "_model_module": "@jupyter-widgets/controls",
      "_model_module_version": "1.5.0",
      "_model_name": "ProgressStyleModel",
      "_view_count": null,
      "_view_module": "@jupyter-widgets/base",
      "_view_module_version": "1.2.0",
      "_view_name": "StyleView",
      "bar_color": null,
      "description_width": ""
     }
    },
    "1c0c41cec82d43c09b5634568a09cd06": {
     "model_module": "@jupyter-widgets/base",
     "model_name": "LayoutModel",
     "state": {
      "_model_module": "@jupyter-widgets/base",
      "_model_module_version": "1.2.0",
      "_model_name": "LayoutModel",
      "_view_count": null,
      "_view_module": "@jupyter-widgets/base",
      "_view_module_version": "1.2.0",
      "_view_name": "LayoutView",
      "align_content": null,
      "align_items": null,
      "align_self": null,
      "border": null,
      "bottom": null,
      "display": null,
      "flex": null,
      "flex_flow": null,
      "grid_area": null,
      "grid_auto_columns": null,
      "grid_auto_flow": null,
      "grid_auto_rows": null,
      "grid_column": null,
      "grid_gap": null,
      "grid_row": null,
      "grid_template_areas": null,
      "grid_template_columns": null,
      "grid_template_rows": null,
      "height": null,
      "justify_content": null,
      "justify_items": null,
      "left": null,
      "margin": null,
      "max_height": null,
      "max_width": null,
      "min_height": null,
      "min_width": null,
      "object_fit": null,
      "object_position": null,
      "order": null,
      "overflow": null,
      "overflow_x": null,
      "overflow_y": null,
      "padding": null,
      "right": null,
      "top": null,
      "visibility": null,
      "width": null
     }
    },
    "456cc9cf33c948979190e76db8abce1d": {
     "model_module": "@jupyter-widgets/controls",
     "model_name": "IntProgressModel",
     "state": {
      "_dom_classes": [],
      "_model_module": "@jupyter-widgets/controls",
      "_model_module_version": "1.5.0",
      "_model_name": "IntProgressModel",
      "_view_count": null,
      "_view_module": "@jupyter-widgets/controls",
      "_view_module_version": "1.5.0",
      "_view_name": "ProgressView",
      "bar_style": "success",
      "description": "Loading:",
      "description_tooltip": null,
      "layout": "IPY_MODEL_1c0c41cec82d43c09b5634568a09cd06",
      "max": 12,
      "min": 0,
      "orientation": "horizontal",
      "style": "IPY_MODEL_1a38dc46a8fb40c09c6b07550d0af0cc",
      "value": 12
     }
    },
    "74cb73f3e1014452bc9b0dc52f9bd8bc": {
     "model_module": "@jupyter-widgets/base",
     "model_name": "LayoutModel",
     "state": {
      "_model_module": "@jupyter-widgets/base",
      "_model_module_version": "1.2.0",
      "_model_name": "LayoutModel",
      "_view_count": null,
      "_view_module": "@jupyter-widgets/base",
      "_view_module_version": "1.2.0",
      "_view_name": "LayoutView",
      "align_content": null,
      "align_items": null,
      "align_self": null,
      "border": null,
      "bottom": null,
      "display": null,
      "flex": null,
      "flex_flow": null,
      "grid_area": null,
      "grid_auto_columns": null,
      "grid_auto_flow": null,
      "grid_auto_rows": null,
      "grid_column": null,
      "grid_gap": null,
      "grid_row": null,
      "grid_template_areas": null,
      "grid_template_columns": null,
      "grid_template_rows": null,
      "height": null,
      "justify_content": null,
      "justify_items": null,
      "left": null,
      "margin": null,
      "max_height": null,
      "max_width": null,
      "min_height": null,
      "min_width": null,
      "object_fit": null,
      "object_position": null,
      "order": null,
      "overflow": null,
      "overflow_x": null,
      "overflow_y": null,
      "padding": null,
      "right": null,
      "top": null,
      "visibility": null,
      "width": null
     }
    },
    "7f83b0185b7e47f68c85d26058e4fa37": {
     "model_module": "@jupyter-widgets/controls",
     "model_name": "ProgressStyleModel",
     "state": {
      "_model_module": "@jupyter-widgets/controls",
      "_model_module_version": "1.5.0",
      "_model_name": "ProgressStyleModel",
      "_view_count": null,
      "_view_module": "@jupyter-widgets/base",
      "_view_module_version": "1.2.0",
      "_view_name": "StyleView",
      "bar_color": null,
      "description_width": ""
     }
    },
    "9737779405e146d1833bdb1f954d7e7c": {
     "model_module": "@jupyter-widgets/controls",
     "model_name": "IntProgressModel",
     "state": {
      "_dom_classes": [],
      "_model_module": "@jupyter-widgets/controls",
      "_model_module_version": "1.5.0",
      "_model_name": "IntProgressModel",
      "_view_count": null,
      "_view_module": "@jupyter-widgets/controls",
      "_view_module_version": "1.5.0",
      "_view_name": "ProgressView",
      "bar_style": "success",
      "description": "Loading:",
      "description_tooltip": null,
      "layout": "IPY_MODEL_74cb73f3e1014452bc9b0dc52f9bd8bc",
      "max": 12,
      "min": 0,
      "orientation": "horizontal",
      "style": "IPY_MODEL_7f83b0185b7e47f68c85d26058e4fa37",
      "value": 12
     }
    },
    "989b647b77bb4600a787f264f16ba803": {
     "model_module": "@jupyter-widgets/controls",
     "model_name": "ProgressStyleModel",
     "state": {
      "_model_module": "@jupyter-widgets/controls",
      "_model_module_version": "1.5.0",
      "_model_name": "ProgressStyleModel",
      "_view_count": null,
      "_view_module": "@jupyter-widgets/base",
      "_view_module_version": "1.2.0",
      "_view_name": "StyleView",
      "bar_color": null,
      "description_width": ""
     }
    },
    "c8c56ec21cb54802aa185e951d385e27": {
     "model_module": "@jupyter-widgets/controls",
     "model_name": "IntProgressModel",
     "state": {
      "_dom_classes": [],
      "_model_module": "@jupyter-widgets/controls",
      "_model_module_version": "1.5.0",
      "_model_name": "IntProgressModel",
      "_view_count": null,
      "_view_module": "@jupyter-widgets/controls",
      "_view_module_version": "1.5.0",
      "_view_name": "ProgressView",
      "bar_style": "success",
      "description": "Loading:",
      "description_tooltip": null,
      "layout": "IPY_MODEL_f6c388a023314df6913680fe68316b0b",
      "max": 12,
      "min": 0,
      "orientation": "horizontal",
      "style": "IPY_MODEL_989b647b77bb4600a787f264f16ba803",
      "value": 12
     }
    },
    "f6c388a023314df6913680fe68316b0b": {
     "model_module": "@jupyter-widgets/base",
     "model_name": "LayoutModel",
     "state": {
      "_model_module": "@jupyter-widgets/base",
      "_model_module_version": "1.2.0",
      "_model_name": "LayoutModel",
      "_view_count": null,
      "_view_module": "@jupyter-widgets/base",
      "_view_module_version": "1.2.0",
      "_view_name": "LayoutView",
      "align_content": null,
      "align_items": null,
      "align_self": null,
      "border": null,
      "bottom": null,
      "display": null,
      "flex": null,
      "flex_flow": null,
      "grid_area": null,
      "grid_auto_columns": null,
      "grid_auto_flow": null,
      "grid_auto_rows": null,
      "grid_column": null,
      "grid_gap": null,
      "grid_row": null,
      "grid_template_areas": null,
      "grid_template_columns": null,
      "grid_template_rows": null,
      "height": null,
      "justify_content": null,
      "justify_items": null,
      "left": null,
      "margin": null,
      "max_height": null,
      "max_width": null,
      "min_height": null,
      "min_width": null,
      "object_fit": null,
      "object_position": null,
      "order": null,
      "overflow": null,
      "overflow_x": null,
      "overflow_y": null,
      "padding": null,
      "right": null,
      "top": null,
      "visibility": null,
      "width": null
     }
    }
   }
  }
 },
 "nbformat": 4,
 "nbformat_minor": 1
}
