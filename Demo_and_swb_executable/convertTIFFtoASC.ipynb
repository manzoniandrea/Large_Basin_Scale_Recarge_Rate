{
  "nbformat": 4,
  "nbformat_minor": 0,
  "metadata": {
    "colab": {
      "name": "convertTIFFtoASC.ipynb",
      "provenance": []
    },
    "kernelspec": {
      "name": "python3",
      "display_name": "Python 3"
    },
    "language_info": {
      "name": "python"
    }
  },
  "cells": [
    {
      "cell_type": "code",
      "source": [
        "pip install rasterio"
      ],
      "metadata": {
        "id": "cq6iwLGPvWS4"
      },
      "execution_count": null,
      "outputs": []
    },
    {
      "cell_type": "code",
      "source": [
        "import rasterio\n",
        "import os\n",
        "import gdal"
      ],
      "metadata": {
        "id": "WAGMOmnguyRg"
      },
      "execution_count": 12,
      "outputs": []
    },
    {
      "cell_type": "code",
      "source": [
        "from os import listdir\n",
        "from os.path import isfile, join\n",
        "onlyfiles = [f for f in listdir('/content') if isfile(join('/content', f))]"
      ],
      "metadata": {
        "id": "FycuNBnvuTVU"
      },
      "execution_count": 7,
      "outputs": []
    },
    {
      "cell_type": "code",
      "execution_count": 19,
      "metadata": {
        "colab": {
          "base_uri": "https://localhost:8080/"
        },
        "id": "xPF6C9MKtplG",
        "outputId": "5f51ca7a-ebe1-4e0a-d701-e4db6d7dd6b9"
      },
      "outputs": [
        {
          "output_type": "stream",
          "name": "stdout",
          "text": [
            "flow_direction.tif\n",
            "Hydrologic_Group_R.tif\n",
            "LC.tif\n",
            "AWC.tif\n"
          ]
        }
      ],
      "source": [
        " for i in range(len(onlyfiles)):\n",
        "   targetFile = onlyfiles[i]\n",
        "   with rasterio.open(targetFile) as src:\n",
        "        out_meta = src.meta\n",
        "   with rasterio.open(targetFile, \"w\", **out_meta) as dest:\n",
        "     print(targetFile)\n",
        "   targetFile_ascii =  onlyfiles[i][:-4]+\".asc\"\n",
        "   targetFile_prj =  onlyfiles[i][:-4]+\".prj\"\n",
        "   #Open existing dataset\n",
        "   src_ds = gdal.Open( targetFile )\n",
        "   #Open output format driver, see gdal_translate --formats for list\n",
        "   format = \"AAIGrid\"\n",
        "   driver = gdal.GetDriverByName( format )\n",
        "   \n",
        "   #Output to new format\n",
        "   dst_ds = driver.CreateCopy( targetFile_ascii, src_ds, 0 )\n",
        "   #Properly close the datasets to flush to disk\n",
        "   dst_ds = None\n",
        "   src_ds = None\n",
        "   os.remove(targetFile_ascii+'.aux.xml')\n",
        "   os.remove(targetFile_prj)"
      ]
    },
    {
      "cell_type": "code",
      "source": [
        ""
      ],
      "metadata": {
        "id": "MvrkoqsvxsqQ"
      },
      "execution_count": null,
      "outputs": []
    }
  ]
}